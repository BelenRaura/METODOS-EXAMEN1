{
 "cells": [
  {
   "cell_type": "code",
   "execution_count": 4,
   "metadata": {},
   "outputs": [
    {
     "name": "stdout",
     "output_type": "stream",
     "text": [
      "La raíz encontrada es: -3.814697265625e-06\n"
     ]
    }
   ],
   "source": [
    "import math\n",
    "\n",
    "def bisection_method(f, a, b, tol):\n",
    "    if f(a) * f(b) >= 0:\n",
    "        print(\"La función debe tener signos opuestos en los extremos a y b.\")\n",
    "        return None\n",
    "    \n",
    "    c = a\n",
    "    while (b - a) / 2.0 > tol:\n",
    "        c = (a + b) / 2.0\n",
    "        if f(c) == 0:\n",
    "            return c\n",
    "        elif f(a) * f(c) < 0:\n",
    "            b = c\n",
    "        else:\n",
    "            a = c\n",
    "    return c\n",
    "\n",
    "# Definimos la función seno\n",
    "def f(x):\n",
    "    return math.sin(x)\n",
    "\n",
    "# Intervalo [a, b] y tolerancia\n",
    "a = -1\n",
    "b = 2\n",
    "tol = 1e-5\n",
    "\n",
    "# Llamamos al método de la bisección\n",
    "root = bisection_method(f, a, b, tol)\n",
    "print(f\"La raíz encontrada es: {root}\")"
   ]
  },
  {
   "cell_type": "code",
   "execution_count": 3,
   "metadata": {},
   "outputs": [
    {
     "name": "stdout",
     "output_type": "stream",
     "text": [
      "La raíz encontrada es: -3.1415767669677734\n"
     ]
    }
   ],
   "source": [
    "# Intervalo [a, b] y tolerancia\n",
    "a = -5\n",
    "b = 4\n",
    "tol = 1e-5\n",
    "\n",
    "# Llamamos al método de la bisección\n",
    "root = bisection_method(f, a, b, tol)\n",
    "print(f\"La raíz encontrada es: {root}\")"
   ]
  },
  {
   "cell_type": "code",
   "execution_count": 5,
   "metadata": {},
   "outputs": [
    {
     "name": "stdout",
     "output_type": "stream",
     "text": [
      "La función debe tener signos opuestos en los extremos a y b.\n",
      "La raíz encontrada es: None\n"
     ]
    }
   ],
   "source": [
    "# Intervalo [a, b] y tolerancia\n",
    "a = -2.5\n",
    "b = -1\n",
    "tol = 1e-5\n",
    "\n",
    "# Llamamos al método de la bisección\n",
    "root = bisection_method(f, a, b, tol)\n",
    "print(f\"La raíz encontrada es: {root}\")"
   ]
  },
  {
   "cell_type": "code",
   "execution_count": 6,
   "metadata": {},
   "outputs": [
    {
     "name": "stdout",
     "output_type": "stream",
     "text": [
      "La raíz encontrada es: 3.1415767669677734\n"
     ]
    }
   ],
   "source": [
    "# Intervalo [a, b] y tolerancia\n",
    "a = -4\n",
    "b = 5\n",
    "tol = 1e-5\n",
    "\n",
    "# Llamamos al método de la bisección\n",
    "root = bisection_method(f, a, b, tol)\n",
    "print(f\"La raíz encontrada es: {root}\")"
   ]
  },
  {
   "cell_type": "code",
   "execution_count": 7,
   "metadata": {},
   "outputs": [
    {
     "name": "stdout",
     "output_type": "stream",
     "text": [
      "La raíz encontrada es: 3.1415863037109375\n"
     ]
    }
   ],
   "source": [
    "# Intervalo [a, b] y tolerancia\n",
    "a = 3\n",
    "b = 5\n",
    "tol = 1e-5\n",
    "\n",
    "# Llamamos al método de la bisección\n",
    "root = bisection_method(f, a, b, tol)\n",
    "print(f\"La raíz encontrada es: {root}\")"
   ]
  },
  {
   "cell_type": "code",
   "execution_count": 8,
   "metadata": {},
   "outputs": [
    {
     "name": "stdout",
     "output_type": "stream",
     "text": [
      "La función debe tener signos opuestos en los extremos a y b.\n",
      "La raíz encontrada es: None\n"
     ]
    }
   ],
   "source": [
    "# Intervalo [a, b] y tolerancia\n",
    "a = -3.5\n",
    "b = 3\n",
    "tol = 1e-5\n",
    "\n",
    "# Llamamos al método de la bisección\n",
    "root = bisection_method(f, a, b, tol)\n",
    "print(f\"La raíz encontrada es: {root}\")"
   ]
  }
 ],
 "metadata": {
  "kernelspec": {
   "display_name": "Python 3",
   "language": "python",
   "name": "python3"
  },
  "language_info": {
   "codemirror_mode": {
    "name": "ipython",
    "version": 3
   },
   "file_extension": ".py",
   "mimetype": "text/x-python",
   "name": "python",
   "nbconvert_exporter": "python",
   "pygments_lexer": "ipython3",
   "version": "3.11.3"
  }
 },
 "nbformat": 4,
 "nbformat_minor": 2
}
