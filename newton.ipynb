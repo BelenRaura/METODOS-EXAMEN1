{
 "cells": [
  {
   "cell_type": "code",
   "execution_count": 7,
   "metadata": {},
   "outputs": [
    {
     "name": "stdout",
     "output_type": "stream",
     "text": [
      "Convergencia alcanzada después de 4 iteraciones.\n",
      "La raíz encontrada es: 1.4142137800471977\n"
     ]
    }
   ],
   "source": [
    "def newton_raphson(f, df, x0, tol=1e-6, max_iter=100):\n",
    "    \"\"\"\n",
    "    Método de Newton-Raphson para encontrar las raíces de una función.\n",
    "\n",
    "    Parámetros:\n",
    "    f : función\n",
    "        La función de la cual queremos encontrar la raíz.\n",
    "    df : función\n",
    "        La derivada de la función f.\n",
    "    x0 : float\n",
    "        El valor inicial para la iteración.\n",
    "    tol : float, opcional\n",
    "        La tolerancia para el criterio de convergencia (por defecto es 1e-6).\n",
    "    max_iter : int, opcional\n",
    "        El número máximo de iteraciones permitidas (por defecto es 100).\n",
    "\n",
    "    Retorna:\n",
    "    x : float\n",
    "        La aproximación de la raíz de la función.\n",
    "    \"\"\"\n",
    "    x = x0\n",
    "    for i in range(max_iter):\n",
    "        fx = f(x)\n",
    "        dfx = df(x)\n",
    "        if abs(fx) < tol:\n",
    "            print(f'Convergencia alcanzada después de {i} iteraciones.')\n",
    "            return x\n",
    "        if dfx == 0:\n",
    "            raise ValueError('La derivada es cero. El método de Newton-Raphson falla.')\n",
    "        x = x - fx / dfx\n",
    "    raise ValueError('El método de Newton-Raphson no converge después del número máximo de iteraciones.')\n",
    "\n",
    "# Ejemplo de uso:\n",
    "# Definimos la función y su derivada\n",
    "def f(x):\n",
    "    return x**2 - 2\n",
    "\n",
    "def df(x):\n",
    "    return 2 * x\n",
    "\n",
    "# Valor inicial\n",
    "x0 = 3.0\n",
    "\n",
    "# Llamamos al método de Newton-Raphson\n",
    "raiz = newton_raphson(f, df, x0)\n",
    "print(f'La raíz encontrada es: {raiz}')"
   ]
  },
  {
   "cell_type": "code",
   "execution_count": 11,
   "metadata": {},
   "outputs": [
    {
     "ename": "ValueError",
     "evalue": "El método de Newton-Raphson no converge después del número máximo de iteraciones.",
     "output_type": "error",
     "traceback": [
      "\u001b[1;31m---------------------------------------------------------------------------\u001b[0m",
      "\u001b[1;31mValueError\u001b[0m                                Traceback (most recent call last)",
      "Cell \u001b[1;32mIn[11], line 12\u001b[0m\n\u001b[0;32m      9\u001b[0m x0_new \u001b[38;5;241m=\u001b[39m \u001b[38;5;241m1.0\u001b[39m\n\u001b[0;32m     11\u001b[0m \u001b[38;5;66;03m# Llamamos al método de Newton-Raphson\u001b[39;00m\n\u001b[1;32m---> 12\u001b[0m raiz_new \u001b[38;5;241m=\u001b[39m \u001b[43mnewton_raphson\u001b[49m\u001b[43m(\u001b[49m\u001b[43mf_new\u001b[49m\u001b[43m,\u001b[49m\u001b[43m \u001b[49m\u001b[43mdf_new\u001b[49m\u001b[43m,\u001b[49m\u001b[43m \u001b[49m\u001b[43mx0_new\u001b[49m\u001b[43m)\u001b[49m\n\u001b[0;32m     13\u001b[0m \u001b[38;5;28mprint\u001b[39m(\u001b[38;5;124mf\u001b[39m\u001b[38;5;124m'\u001b[39m\u001b[38;5;124mLa raíz encontrada es: \u001b[39m\u001b[38;5;132;01m{\u001b[39;00mraiz_new\u001b[38;5;132;01m}\u001b[39;00m\u001b[38;5;124m'\u001b[39m)\n",
      "Cell \u001b[1;32mIn[7], line 31\u001b[0m, in \u001b[0;36mnewton_raphson\u001b[1;34m(f, df, x0, tol, max_iter)\u001b[0m\n\u001b[0;32m     29\u001b[0m         \u001b[38;5;28;01mraise\u001b[39;00m \u001b[38;5;167;01mValueError\u001b[39;00m(\u001b[38;5;124m'\u001b[39m\u001b[38;5;124mLa derivada es cero. El método de Newton-Raphson falla.\u001b[39m\u001b[38;5;124m'\u001b[39m)\n\u001b[0;32m     30\u001b[0m     x \u001b[38;5;241m=\u001b[39m x \u001b[38;5;241m-\u001b[39m fx \u001b[38;5;241m/\u001b[39m dfx\n\u001b[1;32m---> 31\u001b[0m \u001b[38;5;28;01mraise\u001b[39;00m \u001b[38;5;167;01mValueError\u001b[39;00m(\u001b[38;5;124m'\u001b[39m\u001b[38;5;124mEl método de Newton-Raphson no converge después del número máximo de iteraciones.\u001b[39m\u001b[38;5;124m'\u001b[39m)\n",
      "\u001b[1;31mValueError\u001b[0m: El método de Newton-Raphson no converge después del número máximo de iteraciones."
     ]
    }
   ],
   "source": [
    "# Definimos la nueva función y su derivada\n",
    "def f_new(x):\n",
    "    return x**3 + x - 1 - 3*x**2\n",
    "\n",
    "def df_new(x):\n",
    "    return 3*x**2 + 1 - 6*x\n",
    "\n",
    "# Valor inicial\n",
    "x0_new = 1.0\n",
    "\n",
    "# Llamamos al método de Newton-Raphson\n",
    "raiz_new = newton_raphson(f_new, df_new, x0_new)\n",
    "print(f'La raíz encontrada es: {raiz_new}')"
   ]
  },
  {
   "cell_type": "code",
   "execution_count": 12,
   "metadata": {},
   "outputs": [
    {
     "ename": "ValueError",
     "evalue": "El método de Newton-Raphson no converge después del número máximo de iteraciones.",
     "output_type": "error",
     "traceback": [
      "\u001b[1;31m---------------------------------------------------------------------------\u001b[0m",
      "\u001b[1;31mValueError\u001b[0m                                Traceback (most recent call last)",
      "Cell \u001b[1;32mIn[12], line 12\u001b[0m\n\u001b[0;32m      9\u001b[0m x0_new \u001b[38;5;241m=\u001b[39m \u001b[38;5;241m0.0\u001b[39m\n\u001b[0;32m     11\u001b[0m \u001b[38;5;66;03m# Llamamos al método de Newton-Raphson\u001b[39;00m\n\u001b[1;32m---> 12\u001b[0m raiz_new \u001b[38;5;241m=\u001b[39m \u001b[43mnewton_raphson\u001b[49m\u001b[43m(\u001b[49m\u001b[43mf_new\u001b[49m\u001b[43m,\u001b[49m\u001b[43m \u001b[49m\u001b[43mdf_new\u001b[49m\u001b[43m,\u001b[49m\u001b[43m \u001b[49m\u001b[43mx0_new\u001b[49m\u001b[43m)\u001b[49m\n\u001b[0;32m     13\u001b[0m \u001b[38;5;28mprint\u001b[39m(\u001b[38;5;124mf\u001b[39m\u001b[38;5;124m'\u001b[39m\u001b[38;5;124mLa raíz encontrada es: \u001b[39m\u001b[38;5;132;01m{\u001b[39;00mraiz_new\u001b[38;5;132;01m}\u001b[39;00m\u001b[38;5;124m'\u001b[39m)\n",
      "Cell \u001b[1;32mIn[7], line 31\u001b[0m, in \u001b[0;36mnewton_raphson\u001b[1;34m(f, df, x0, tol, max_iter)\u001b[0m\n\u001b[0;32m     29\u001b[0m         \u001b[38;5;28;01mraise\u001b[39;00m \u001b[38;5;167;01mValueError\u001b[39;00m(\u001b[38;5;124m'\u001b[39m\u001b[38;5;124mLa derivada es cero. El método de Newton-Raphson falla.\u001b[39m\u001b[38;5;124m'\u001b[39m)\n\u001b[0;32m     30\u001b[0m     x \u001b[38;5;241m=\u001b[39m x \u001b[38;5;241m-\u001b[39m fx \u001b[38;5;241m/\u001b[39m dfx\n\u001b[1;32m---> 31\u001b[0m \u001b[38;5;28;01mraise\u001b[39;00m \u001b[38;5;167;01mValueError\u001b[39;00m(\u001b[38;5;124m'\u001b[39m\u001b[38;5;124mEl método de Newton-Raphson no converge después del número máximo de iteraciones.\u001b[39m\u001b[38;5;124m'\u001b[39m)\n",
      "\u001b[1;31mValueError\u001b[0m: El método de Newton-Raphson no converge después del número máximo de iteraciones."
     ]
    }
   ],
   "source": [
    "# Definimos la nueva función y su derivada\n",
    "def f_new(x):\n",
    "    return x**3 + x - 1 - 3*x**2\n",
    "\n",
    "def df_new(x):\n",
    "    return 3*x**2 + 1 - 6*x\n",
    "\n",
    "# Valor inicial\n",
    "x0_new = 0.0\n",
    "\n",
    "# Llamamos al método de Newton-Raphson\n",
    "raiz_new = newton_raphson(f_new, df_new, x0_new)\n",
    "print(f'La raíz encontrada es: {raiz_new}')"
   ]
  },
  {
   "cell_type": "code",
   "execution_count": 13,
   "metadata": {},
   "outputs": [
    {
     "ename": "ValueError",
     "evalue": "La derivada es cero. El método de Newton-Raphson falla.",
     "output_type": "error",
     "traceback": [
      "\u001b[1;31m---------------------------------------------------------------------------\u001b[0m",
      "\u001b[1;31mValueError\u001b[0m                                Traceback (most recent call last)",
      "Cell \u001b[1;32mIn[13], line 11\u001b[0m\n\u001b[0;32m      9\u001b[0m x0_new \u001b[38;5;241m=\u001b[39m \u001b[38;5;241m1\u001b[39m \u001b[38;5;241m+\u001b[39m ((\u001b[38;5;241m6\u001b[39m\u001b[38;5;241m*\u001b[39m\u001b[38;5;241m*\u001b[39m\u001b[38;5;241m0.5\u001b[39m) \u001b[38;5;241m/\u001b[39m \u001b[38;5;241m3\u001b[39m)\n\u001b[0;32m     10\u001b[0m \u001b[38;5;66;03m# Llamamos al método de Newton-Raphson\u001b[39;00m\n\u001b[1;32m---> 11\u001b[0m raiz_new \u001b[38;5;241m=\u001b[39m \u001b[43mnewton_raphson\u001b[49m\u001b[43m(\u001b[49m\u001b[43mf_new\u001b[49m\u001b[43m,\u001b[49m\u001b[43m \u001b[49m\u001b[43mdf_new\u001b[49m\u001b[43m,\u001b[49m\u001b[43m \u001b[49m\u001b[43mx0_new\u001b[49m\u001b[43m)\u001b[49m\n\u001b[0;32m     12\u001b[0m \u001b[38;5;28mprint\u001b[39m(\u001b[38;5;124mf\u001b[39m\u001b[38;5;124m'\u001b[39m\u001b[38;5;124mLa raíz encontrada es: \u001b[39m\u001b[38;5;132;01m{\u001b[39;00mraiz_new\u001b[38;5;132;01m}\u001b[39;00m\u001b[38;5;124m'\u001b[39m)\n",
      "Cell \u001b[1;32mIn[7], line 29\u001b[0m, in \u001b[0;36mnewton_raphson\u001b[1;34m(f, df, x0, tol, max_iter)\u001b[0m\n\u001b[0;32m     27\u001b[0m         \u001b[38;5;28;01mreturn\u001b[39;00m x\n\u001b[0;32m     28\u001b[0m     \u001b[38;5;28;01mif\u001b[39;00m dfx \u001b[38;5;241m==\u001b[39m \u001b[38;5;241m0\u001b[39m:\n\u001b[1;32m---> 29\u001b[0m         \u001b[38;5;28;01mraise\u001b[39;00m \u001b[38;5;167;01mValueError\u001b[39;00m(\u001b[38;5;124m'\u001b[39m\u001b[38;5;124mLa derivada es cero. El método de Newton-Raphson falla.\u001b[39m\u001b[38;5;124m'\u001b[39m)\n\u001b[0;32m     30\u001b[0m     x \u001b[38;5;241m=\u001b[39m x \u001b[38;5;241m-\u001b[39m fx \u001b[38;5;241m/\u001b[39m dfx\n\u001b[0;32m     31\u001b[0m \u001b[38;5;28;01mraise\u001b[39;00m \u001b[38;5;167;01mValueError\u001b[39;00m(\u001b[38;5;124m'\u001b[39m\u001b[38;5;124mEl método de Newton-Raphson no converge después del número máximo de iteraciones.\u001b[39m\u001b[38;5;124m'\u001b[39m)\n",
      "\u001b[1;31mValueError\u001b[0m: La derivada es cero. El método de Newton-Raphson falla."
     ]
    }
   ],
   "source": [
    "# Definimos la nueva función y su derivada\n",
    "def f_new(x):\n",
    "    return x**3 + x - 1 - 3*x**2\n",
    "\n",
    "def df_new(x):\n",
    "    return 3*x**2 + 1 - 6*x\n",
    "\n",
    "# Valor inicial\n",
    "x0_new = 1 + ((6**0.5) / 3)\n",
    "# Llamamos al método de Newton-Raphson\n",
    "raiz_new = newton_raphson(f_new, df_new, x0_new)\n",
    "print(f'La raíz encontrada es: {raiz_new}')"
   ]
  },
  {
   "cell_type": "code",
   "execution_count": 5,
   "metadata": {},
   "outputs": [
    {
     "name": "stdout",
     "output_type": "stream",
     "text": [
      "Convergencia alcanzada después de 8 iteraciones.\n",
      "El valor de x que satisface la ecuación x^3 + x - 3x^2 - 1 = 0 es: 2.769292354251341\n",
      "Las soluciones exactas de la ecuación x^3 + x - 3x^2 - 1 = 0 son: [1 + (-1/2 - sqrt(3)*I/2)*(sqrt(57)/9 + 1)**(1/3) + 2/(3*(-1/2 - sqrt(3)*I/2)*(sqrt(57)/9 + 1)**(1/3)), 1 + 2/(3*(-1/2 + sqrt(3)*I/2)*(sqrt(57)/9 + 1)**(1/3)) + (-1/2 + sqrt(3)*I/2)*(sqrt(57)/9 + 1)**(1/3), 2/(3*(sqrt(57)/9 + 1)**(1/3)) + 1 + (sqrt(57)/9 + 1)**(1/3)]\n"
     ]
    }
   ],
   "source": [
    "from sympy import symbols, Eq, solve\n",
    "\n",
    "# Usamos el método de Newton-Raphson para encontrar la raíz de la ecuación\n",
    "x_sol = newton_raphson(f_new, df_new, x0_new)\n",
    "print(f'El valor de x que satisface la ecuación x^3 + x - 3x^2 - 1 = 0 es: {x_sol}')\n",
    "# Definimos la variable y la ecuación\n",
    "x = symbols('x')\n",
    "equation = Eq(x**3 + x - 3*x**2 - 1, 0)\n",
    "\n",
    "# Resolvemos la ecuación\n",
    "soluciones = solve(equation, x)\n",
    "print(f'Las soluciones exactas de la ecuación x^3 + x - 3x^2 - 1 = 0 son: {soluciones}')"
   ]
  },
  {
   "cell_type": "markdown",
   "metadata": {},
   "source": []
  }
 ],
 "metadata": {
  "kernelspec": {
   "display_name": "Python 3",
   "language": "python",
   "name": "python3"
  },
  "language_info": {
   "codemirror_mode": {
    "name": "ipython",
    "version": 3
   },
   "file_extension": ".py",
   "mimetype": "text/x-python",
   "name": "python",
   "nbconvert_exporter": "python",
   "pygments_lexer": "ipython3",
   "version": "3.11.3"
  }
 },
 "nbformat": 4,
 "nbformat_minor": 2
}
